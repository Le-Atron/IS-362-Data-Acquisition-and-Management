{
 "cells": [
  {
   "cell_type": "code",
   "execution_count": 147,
   "metadata": {},
   "outputs": [
    {
     "name": "stdout",
     "output_type": "stream",
     "text": [
      "2021-05-23 13:33:19,257 loading file C:\\Users\\Anthony\\.flair\\models\\sentiment-en-mix-distillbert_4.pt\n"
     ]
    }
   ],
   "source": [
    "# FinalCode - Anthony Hugan - Sentiment analysis of Reddit News posts, against SPY ETF\n",
    "\n",
    "\n",
    "import pandas as pd\n",
    "pd.set_option('display.max_colwidth', None)\n",
    "import datetime\n",
    "import pandas_datareader.data as web\n",
    "from pandas import Series, DataFrame\n",
    "\n",
    "\n",
    "%matplotlib inline\n",
    "import matplotlib.pyplot as plt\n",
    "from matplotlib import style\n",
    "\n",
    "\n",
    "import matplotlib as mpl\n",
    "mpl.rc('figure', figsize=(8, 7))\n",
    "mpl.__version__\n",
    "\n",
    "# Adjusting the style of matplotlib\n",
    "style.use('ggplot')\n",
    "\n",
    "\n",
    "import flair\n",
    "sentiment_model = flair.models.TextClassifier.load('en-sentiment')\n",
    "\n",
    "import yfinance as yf\n",
    "\n",
    "from pandas_datareader import data as pdr\n",
    "\n",
    "import json\n",
    "\n",
    "import requests\n",
    "\n",
    "from pandas import json_normalize"
   ]
  },
  {
   "cell_type": "code",
   "execution_count": 108,
   "metadata": {},
   "outputs": [
    {
     "data": {
      "text/plain": [
       "{'zip': '98052-6399',\n",
       " 'sector': 'Technology',\n",
       " 'fullTimeEmployees': 163000,\n",
       " 'longBusinessSummary': 'Microsoft Corporation develops, licenses, and supports software, services, devices, and solutions worldwide. Its Productivity and Business Processes segment offers Office, Exchange, SharePoint, Microsoft Teams, Office 365 Security and Compliance, and Skype for Business, as well as related Client Access Licenses (CAL); Skype, Outlook.com, OneDrive, and LinkedIn; and Dynamics 365, a set of cloud-based and on-premises business solutions for small and medium businesses, large organizations, and divisions of enterprises. Its Intelligent Cloud segment licenses SQL and Windows Servers, Visual Studio, System Center, and related CALs; GitHub that provides a collaboration platform and code hosting service for developers; and Azure, a cloud platform. It also offers support services and Microsoft consulting services to assist customers in developing, deploying, and managing Microsoft server and desktop solutions; and training and certification to developers and IT professionals on various Microsoft products. Its More Personal Computing segment provides Windows original equipment manufacturer (OEM) licensing and other non-volume licensing of the Windows operating system; Windows Commercial, such as volume licensing of the Windows operating system, Windows cloud services, and other Windows commercial offerings; patent licensing; Windows Internet of Things; and MSN advertising. It also offers Surface, PC accessories, PCs, tablets, gaming and entertainment consoles, and other devices; Gaming, including Xbox hardware, and Xbox content and services; video games and third-party video game royalties; and Search, including Bing and Microsoft advertising. It sells its products through OEMs, distributors, and resellers; and directly through digital marketplaces, online stores, and retail stores. It has a strategic collaboration with DXC Technology, Dynatrace, Inc., and Micro Focus; and a partnership with WPP plc. The company was founded in 1975 and is headquartered in Redmond, Washington.',\n",
       " 'city': 'Redmond',\n",
       " 'phone': '425 882 8080',\n",
       " 'state': 'WA',\n",
       " 'country': 'United States',\n",
       " 'companyOfficers': [],\n",
       " 'website': 'http://www.microsoft.com',\n",
       " 'maxAge': 1,\n",
       " 'address1': 'One Microsoft Way',\n",
       " 'industry': 'Software—Infrastructure',\n",
       " 'previousClose': 246.48,\n",
       " 'regularMarketOpen': 247.565,\n",
       " 'twoHundredDayAverage': 232.73453,\n",
       " 'trailingAnnualDividendYield': 0.008885102,\n",
       " 'payoutRatio': 0.2916,\n",
       " 'volume24Hr': None,\n",
       " 'regularMarketDayHigh': 248.33,\n",
       " 'navPrice': None,\n",
       " 'averageDailyVolume10Day': 24003871,\n",
       " 'totalAssets': None,\n",
       " 'regularMarketPreviousClose': 246.48,\n",
       " 'fiftyDayAverage': 251.99315,\n",
       " 'trailingAnnualDividendRate': 2.19,\n",
       " 'open': 247.565,\n",
       " 'toCurrency': None,\n",
       " 'averageVolume10days': 24003871,\n",
       " 'expireDate': None,\n",
       " 'yield': None,\n",
       " 'algorithm': None,\n",
       " 'dividendRate': 2.24,\n",
       " 'exDividendDate': 1621382400,\n",
       " 'beta': 0.787165,\n",
       " 'circulatingSupply': None,\n",
       " 'startDate': None,\n",
       " 'regularMarketDayLow': 244.74,\n",
       " 'priceHint': 2,\n",
       " 'currency': 'USD',\n",
       " 'trailingPE': 33.41101,\n",
       " 'regularMarketVolume': 21863058,\n",
       " 'lastMarket': None,\n",
       " 'maxSupply': None,\n",
       " 'openInterest': None,\n",
       " 'marketCap': 1846515073024,\n",
       " 'volumeAllCurrencies': None,\n",
       " 'strikePrice': None,\n",
       " 'averageVolume': 28935865,\n",
       " 'priceToSalesTrailing12Months': 11.542955,\n",
       " 'dayLow': 244.74,\n",
       " 'ask': 245.25,\n",
       " 'ytdReturn': None,\n",
       " 'askSize': 900,\n",
       " 'volume': 21863058,\n",
       " 'fiftyTwoWeekHigh': 263.19,\n",
       " 'forwardPE': 29.361675,\n",
       " 'fromCurrency': None,\n",
       " 'fiveYearAvgDividendYield': 1.63,\n",
       " 'fiftyTwoWeekLow': 176.6,\n",
       " 'bid': 244.98,\n",
       " 'tradeable': False,\n",
       " 'dividendYield': 0.0091,\n",
       " 'bidSize': 1400,\n",
       " 'dayHigh': 248.33,\n",
       " 'exchange': 'NMS',\n",
       " 'shortName': 'Microsoft Corporation',\n",
       " 'longName': 'Microsoft Corporation',\n",
       " 'exchangeTimezoneName': 'America/New_York',\n",
       " 'exchangeTimezoneShortName': 'EDT',\n",
       " 'isEsgPopulated': False,\n",
       " 'gmtOffSetMilliseconds': '-14400000',\n",
       " 'quoteType': 'EQUITY',\n",
       " 'symbol': 'MSFT',\n",
       " 'messageBoardId': 'finmb_21835',\n",
       " 'market': 'us_market',\n",
       " 'annualHoldingsTurnover': None,\n",
       " 'enterpriseToRevenue': 11.269,\n",
       " 'beta3Year': None,\n",
       " 'profitMargins': 0.35016,\n",
       " 'enterpriseToEbitda': 23.853,\n",
       " '52WeekChange': 0.35027814,\n",
       " 'morningStarRiskRating': None,\n",
       " 'forwardEps': 8.35,\n",
       " 'revenueQuarterlyGrowth': None,\n",
       " 'sharesOutstanding': 7531570176,\n",
       " 'fundInceptionDate': None,\n",
       " 'annualReportExpenseRatio': None,\n",
       " 'bookValue': 17.853,\n",
       " 'sharesShort': 46696867,\n",
       " 'sharesPercentSharesOut': 0.0062,\n",
       " 'fundFamily': None,\n",
       " 'lastFiscalYearEnd': 1593475200,\n",
       " 'heldPercentInstitutions': 0.72281,\n",
       " 'netIncomeToCommon': 56014999552,\n",
       " 'trailingEps': 7.338,\n",
       " 'lastDividendValue': 0.56,\n",
       " 'SandP52WeekChange': 0.38909745,\n",
       " 'priceToBook': 13.732705,\n",
       " 'heldPercentInsiders': 0.00071999995,\n",
       " 'nextFiscalYearEnd': 1656547200,\n",
       " 'mostRecentQuarter': 1617148800,\n",
       " 'shortRatio': 1.69,\n",
       " 'sharesShortPreviousMonthDate': 1617148800,\n",
       " 'floatShares': 7420408511,\n",
       " 'enterpriseValue': 1802763108352,\n",
       " 'threeYearAverageReturn': None,\n",
       " 'lastSplitDate': 1045526400,\n",
       " 'lastSplitFactor': '2:1',\n",
       " 'legalType': None,\n",
       " 'lastDividendDate': 1621382400,\n",
       " 'morningStarOverallRating': None,\n",
       " 'earningsQuarterlyGrowth': 0.438,\n",
       " 'dateShortInterest': 1619740800,\n",
       " 'pegRatio': 2.01,\n",
       " 'lastCapGain': None,\n",
       " 'shortPercentOfFloat': 0.0062,\n",
       " 'sharesShortPriorMonth': 48428331,\n",
       " 'impliedSharesOutstanding': None,\n",
       " 'category': None,\n",
       " 'fiveYearAverageReturn': None,\n",
       " 'regularMarketPrice': 245.17,\n",
       " 'logo_url': 'https://logo.clearbit.com/microsoft.com'}"
      ]
     },
     "execution_count": 108,
     "metadata": {},
     "output_type": "execute_result"
    }
   ],
   "source": [
    "# checking to see if yahoo finance works \n",
    "\n",
    "msft = yf.Ticker(\"MSFT\")\n",
    "\n",
    "msft.info\n"
   ]
  },
  {
   "cell_type": "code",
   "execution_count": 109,
   "metadata": {},
   "outputs": [],
   "source": [
    "# Exporting data about spy from yahoo finance\n",
    "\n",
    "spy_data = pdr.get_data_yahoo(\"SPY\", start=\"2008-06-08\", end=\"2016-07-01\")\n",
    "\n",
    "spy_data.to_csv('out.csv')"
   ]
  },
  {
   "cell_type": "code",
   "execution_count": 110,
   "metadata": {},
   "outputs": [
    {
     "data": {
      "text/html": [
       "<div>\n",
       "<style scoped>\n",
       "    .dataframe tbody tr th:only-of-type {\n",
       "        vertical-align: middle;\n",
       "    }\n",
       "\n",
       "    .dataframe tbody tr th {\n",
       "        vertical-align: top;\n",
       "    }\n",
       "\n",
       "    .dataframe thead th {\n",
       "        text-align: right;\n",
       "    }\n",
       "</style>\n",
       "<table border=\"1\" class=\"dataframe\">\n",
       "  <thead>\n",
       "    <tr style=\"text-align: right;\">\n",
       "      <th></th>\n",
       "      <th>Date</th>\n",
       "      <th>News</th>\n",
       "    </tr>\n",
       "  </thead>\n",
       "  <tbody>\n",
       "    <tr>\n",
       "      <th>0</th>\n",
       "      <td>2016-07-01</td>\n",
       "      <td>A 117-year-old woman in Mexico City finally received her birth certificate, and died a few hours later. Trinidad Alvarez Lira had waited years for proof that she had been born in 1898.</td>\n",
       "    </tr>\n",
       "    <tr>\n",
       "      <th>1</th>\n",
       "      <td>2016-07-01</td>\n",
       "      <td>IMF chief backs Athens as permanent Olympic host</td>\n",
       "    </tr>\n",
       "    <tr>\n",
       "      <th>2</th>\n",
       "      <td>2016-07-01</td>\n",
       "      <td>The president of France says if Brexit won, so can Donald Trump</td>\n",
       "    </tr>\n",
       "    <tr>\n",
       "      <th>3</th>\n",
       "      <td>2016-07-01</td>\n",
       "      <td>British Man Who Must Give Police 24 Hours' Notice of Sex Threatens Hunger Strike: The man is the subject of a sexual risk order despite having never been convicted of a crime.</td>\n",
       "    </tr>\n",
       "    <tr>\n",
       "      <th>4</th>\n",
       "      <td>2016-07-01</td>\n",
       "      <td>100+ Nobel laureates urge Greenpeace to stop opposing GMOs</td>\n",
       "    </tr>\n",
       "  </tbody>\n",
       "</table>\n",
       "</div>"
      ],
      "text/plain": [
       "         Date  \\\n",
       "0  2016-07-01   \n",
       "1  2016-07-01   \n",
       "2  2016-07-01   \n",
       "3  2016-07-01   \n",
       "4  2016-07-01   \n",
       "\n",
       "                                                                                                                                                                                       News  \n",
       "0  A 117-year-old woman in Mexico City finally received her birth certificate, and died a few hours later. Trinidad Alvarez Lira had waited years for proof that she had been born in 1898.  \n",
       "1                                                                                                                                          IMF chief backs Athens as permanent Olympic host  \n",
       "2                                                                                                                           The president of France says if Brexit won, so can Donald Trump  \n",
       "3           British Man Who Must Give Police 24 Hours' Notice of Sex Threatens Hunger Strike: The man is the subject of a sexual risk order despite having never been convicted of a crime.  \n",
       "4                                                                                                                                100+ Nobel laureates urge Greenpeace to stop opposing GMOs  "
      ]
     },
     "execution_count": 110,
     "metadata": {},
     "output_type": "execute_result"
    }
   ],
   "source": [
    "# Importing Reddit News\n",
    "\n",
    "df = pd.read_csv('RedditNews.csv')\n",
    "\n",
    "df.head()"
   ]
  },
  {
   "cell_type": "code",
   "execution_count": null,
   "metadata": {},
   "outputs": [],
   "source": []
  },
  {
   "cell_type": "code",
   "execution_count": 112,
   "metadata": {},
   "outputs": [],
   "source": [
    "# Testing Flair\n",
    "\n",
    "sample = 'hello world!'\n",
    "sample = flair.data.Sentence(sample)\n"
   ]
  },
  {
   "cell_type": "code",
   "execution_count": 113,
   "metadata": {},
   "outputs": [
    {
     "data": {
      "text/plain": [
       "Sentence: \"hello world !\"   [− Tokens: 3  − Sentence-Labels: {'label': [POSITIVE (0.9968)]}]"
      ]
     },
     "execution_count": 113,
     "metadata": {},
     "output_type": "execute_result"
    }
   ],
   "source": [
    "sentiment_model.predict(sample)\n",
    "\n",
    "sample"
   ]
  },
  {
   "cell_type": "code",
   "execution_count": 114,
   "metadata": {},
   "outputs": [
    {
     "data": {
      "text/plain": [
       "'POSITIVE'"
      ]
     },
     "execution_count": 114,
     "metadata": {},
     "output_type": "execute_result"
    }
   ],
   "source": [
    "sample.labels[0].value"
   ]
  },
  {
   "cell_type": "code",
   "execution_count": 115,
   "metadata": {},
   "outputs": [
    {
     "data": {
      "text/plain": [
       "0.9968497157096863"
      ]
     },
     "execution_count": 115,
     "metadata": {},
     "output_type": "execute_result"
    }
   ],
   "source": [
    "sample.labels[0].score"
   ]
  },
  {
   "cell_type": "code",
   "execution_count": 116,
   "metadata": {},
   "outputs": [],
   "source": [
    "# Loop to go through the data\n",
    "\n",
    "sentiment = []\n",
    "confidence = []\n",
    "\n",
    "for sentence in df['News']:\n",
    "    sample = flair.data.Sentence(sentence)\n",
    "    sentiment_model.predict(sample)\n",
    "    \n",
    "    sentiment.append(sample.labels[0].value)\n",
    "    confidence.append(sample.labels[0].score)"
   ]
  },
  {
   "cell_type": "code",
   "execution_count": 117,
   "metadata": {},
   "outputs": [],
   "source": [
    "df['sentiment'] = sentiment\n",
    "df['confidence'] = confidence"
   ]
  },
  {
   "cell_type": "code",
   "execution_count": 118,
   "metadata": {},
   "outputs": [
    {
     "data": {
      "text/plain": [
       "Date           object\n",
       "News           object\n",
       "sentiment      object\n",
       "confidence    float64\n",
       "dtype: object"
      ]
     },
     "execution_count": 118,
     "metadata": {},
     "output_type": "execute_result"
    }
   ],
   "source": [
    "df.head()\n",
    "\n",
    "df.dtypes"
   ]
  },
  {
   "cell_type": "code",
   "execution_count": 152,
   "metadata": {},
   "outputs": [
    {
     "data": {
      "text/html": [
       "<div>\n",
       "<style scoped>\n",
       "    .dataframe tbody tr th:only-of-type {\n",
       "        vertical-align: middle;\n",
       "    }\n",
       "\n",
       "    .dataframe tbody tr th {\n",
       "        vertical-align: top;\n",
       "    }\n",
       "\n",
       "    .dataframe thead th {\n",
       "        text-align: right;\n",
       "    }\n",
       "</style>\n",
       "<table border=\"1\" class=\"dataframe\">\n",
       "  <thead>\n",
       "    <tr style=\"text-align: right;\">\n",
       "      <th></th>\n",
       "      <th>Date</th>\n",
       "      <th>News</th>\n",
       "      <th>sentiment</th>\n",
       "      <th>confidence</th>\n",
       "      <th>Close Price</th>\n",
       "      <th>Ticker</th>\n",
       "    </tr>\n",
       "  </thead>\n",
       "  <tbody>\n",
       "    <tr>\n",
       "      <th>0</th>\n",
       "      <td>7/1/2016</td>\n",
       "      <td>A 117-year-old woman in Mexico City finally received her birth certificate, and died a few hours later. Trinidad Alvarez Lira had waited years for proof that she had been born in 1898.</td>\n",
       "      <td>NEGATIVE</td>\n",
       "      <td>0.986629</td>\n",
       "      <td>209.92</td>\n",
       "      <td>SPY</td>\n",
       "    </tr>\n",
       "    <tr>\n",
       "      <th>1</th>\n",
       "      <td>7/1/2016</td>\n",
       "      <td>IMF chief backs Athens as permanent Olympic host</td>\n",
       "      <td>POSITIVE</td>\n",
       "      <td>0.619313</td>\n",
       "      <td>209.92</td>\n",
       "      <td>SPY</td>\n",
       "    </tr>\n",
       "    <tr>\n",
       "      <th>2</th>\n",
       "      <td>7/1/2016</td>\n",
       "      <td>The president of France says if Brexit won, so can Donald Trump</td>\n",
       "      <td>NEGATIVE</td>\n",
       "      <td>0.802927</td>\n",
       "      <td>209.92</td>\n",
       "      <td>SPY</td>\n",
       "    </tr>\n",
       "    <tr>\n",
       "      <th>3</th>\n",
       "      <td>7/1/2016</td>\n",
       "      <td>British Man Who Must Give Police 24 Hours' Notice of Sex Threatens Hunger Strike: The man is the subject of a sexual risk order despite having never been convicted of a crime.</td>\n",
       "      <td>NEGATIVE</td>\n",
       "      <td>0.993049</td>\n",
       "      <td>209.92</td>\n",
       "      <td>SPY</td>\n",
       "    </tr>\n",
       "    <tr>\n",
       "      <th>4</th>\n",
       "      <td>7/1/2016</td>\n",
       "      <td>100+ Nobel laureates urge Greenpeace to stop opposing GMOs</td>\n",
       "      <td>POSITIVE</td>\n",
       "      <td>0.594845</td>\n",
       "      <td>209.92</td>\n",
       "      <td>SPY</td>\n",
       "    </tr>\n",
       "  </tbody>\n",
       "</table>\n",
       "</div>"
      ],
      "text/plain": [
       "       Date  \\\n",
       "0  7/1/2016   \n",
       "1  7/1/2016   \n",
       "2  7/1/2016   \n",
       "3  7/1/2016   \n",
       "4  7/1/2016   \n",
       "\n",
       "                                                                                                                                                                                       News  \\\n",
       "0  A 117-year-old woman in Mexico City finally received her birth certificate, and died a few hours later. Trinidad Alvarez Lira had waited years for proof that she had been born in 1898.   \n",
       "1                                                                                                                                          IMF chief backs Athens as permanent Olympic host   \n",
       "2                                                                                                                           The president of France says if Brexit won, so can Donald Trump   \n",
       "3           British Man Who Must Give Police 24 Hours' Notice of Sex Threatens Hunger Strike: The man is the subject of a sexual risk order despite having never been convicted of a crime.   \n",
       "4                                                                                                                                100+ Nobel laureates urge Greenpeace to stop opposing GMOs   \n",
       "\n",
       "  sentiment  confidence  Close Price Ticker  \n",
       "0  NEGATIVE    0.986629       209.92    SPY  \n",
       "1  POSITIVE    0.619313       209.92    SPY  \n",
       "2  NEGATIVE    0.802927       209.92    SPY  \n",
       "3  NEGATIVE    0.993049       209.92    SPY  \n",
       "4  POSITIVE    0.594845       209.92    SPY  "
      ]
     },
     "execution_count": 152,
     "metadata": {},
     "output_type": "execute_result"
    }
   ],
   "source": [
    "# Importing Final Combined Data with Sentiment\n",
    "\n",
    "Final_Data3 = pd.read_csv('FinalData2.csv')\n",
    "\n",
    "Final_Data3.head()"
   ]
  },
  {
   "cell_type": "code",
   "execution_count": 154,
   "metadata": {},
   "outputs": [
    {
     "data": {
      "text/plain": [
       "Date            object\n",
       "News            object\n",
       "sentiment       object\n",
       "confidence     float64\n",
       "Close Price    float64\n",
       "Ticker          object\n",
       "dtype: object"
      ]
     },
     "execution_count": 154,
     "metadata": {},
     "output_type": "execute_result"
    }
   ],
   "source": [
    "# Checking Data Types\n",
    "\n",
    "Final_Data3.dtypes"
   ]
  },
  {
   "cell_type": "code",
   "execution_count": 156,
   "metadata": {},
   "outputs": [
    {
     "name": "stderr",
     "output_type": "stream",
     "text": [
      "<ipython-input-156-67e195e5b6e5>:1: SettingWithCopyWarning: \n",
      "A value is trying to be set on a copy of a slice from a DataFrame\n",
      "\n",
      "See the caveats in the documentation: https://pandas.pydata.org/pandas-docs/stable/user_guide/indexing.html#returning-a-view-versus-a-copy\n",
      "  Final_Data3.sentiment[Final_Data3.sentiment == 'POSITIVE'] = 1\n",
      "<ipython-input-156-67e195e5b6e5>:2: SettingWithCopyWarning: \n",
      "A value is trying to be set on a copy of a slice from a DataFrame\n",
      "\n",
      "See the caveats in the documentation: https://pandas.pydata.org/pandas-docs/stable/user_guide/indexing.html#returning-a-view-versus-a-copy\n",
      "  Final_Data3.sentiment[Final_Data3.sentiment == 'NEGATIVE'] = 0\n"
     ]
    },
    {
     "data": {
      "text/html": [
       "<div>\n",
       "<style scoped>\n",
       "    .dataframe tbody tr th:only-of-type {\n",
       "        vertical-align: middle;\n",
       "    }\n",
       "\n",
       "    .dataframe tbody tr th {\n",
       "        vertical-align: top;\n",
       "    }\n",
       "\n",
       "    .dataframe thead th {\n",
       "        text-align: right;\n",
       "    }\n",
       "</style>\n",
       "<table border=\"1\" class=\"dataframe\">\n",
       "  <thead>\n",
       "    <tr style=\"text-align: right;\">\n",
       "      <th></th>\n",
       "      <th>Date</th>\n",
       "      <th>News</th>\n",
       "      <th>sentiment</th>\n",
       "      <th>confidence</th>\n",
       "      <th>Close Price</th>\n",
       "      <th>Ticker</th>\n",
       "    </tr>\n",
       "  </thead>\n",
       "  <tbody>\n",
       "    <tr>\n",
       "      <th>0</th>\n",
       "      <td>7/1/2016</td>\n",
       "      <td>A 117-year-old woman in Mexico City finally received her birth certificate, and died a few hours later. Trinidad Alvarez Lira had waited years for proof that she had been born in 1898.</td>\n",
       "      <td>0</td>\n",
       "      <td>0.986629</td>\n",
       "      <td>209.92</td>\n",
       "      <td>SPY</td>\n",
       "    </tr>\n",
       "    <tr>\n",
       "      <th>1</th>\n",
       "      <td>7/1/2016</td>\n",
       "      <td>IMF chief backs Athens as permanent Olympic host</td>\n",
       "      <td>1</td>\n",
       "      <td>0.619313</td>\n",
       "      <td>209.92</td>\n",
       "      <td>SPY</td>\n",
       "    </tr>\n",
       "    <tr>\n",
       "      <th>2</th>\n",
       "      <td>7/1/2016</td>\n",
       "      <td>The president of France says if Brexit won, so can Donald Trump</td>\n",
       "      <td>0</td>\n",
       "      <td>0.802927</td>\n",
       "      <td>209.92</td>\n",
       "      <td>SPY</td>\n",
       "    </tr>\n",
       "    <tr>\n",
       "      <th>3</th>\n",
       "      <td>7/1/2016</td>\n",
       "      <td>British Man Who Must Give Police 24 Hours' Notice of Sex Threatens Hunger Strike: The man is the subject of a sexual risk order despite having never been convicted of a crime.</td>\n",
       "      <td>0</td>\n",
       "      <td>0.993049</td>\n",
       "      <td>209.92</td>\n",
       "      <td>SPY</td>\n",
       "    </tr>\n",
       "    <tr>\n",
       "      <th>4</th>\n",
       "      <td>7/1/2016</td>\n",
       "      <td>100+ Nobel laureates urge Greenpeace to stop opposing GMOs</td>\n",
       "      <td>1</td>\n",
       "      <td>0.594845</td>\n",
       "      <td>209.92</td>\n",
       "      <td>SPY</td>\n",
       "    </tr>\n",
       "  </tbody>\n",
       "</table>\n",
       "</div>"
      ],
      "text/plain": [
       "       Date  \\\n",
       "0  7/1/2016   \n",
       "1  7/1/2016   \n",
       "2  7/1/2016   \n",
       "3  7/1/2016   \n",
       "4  7/1/2016   \n",
       "\n",
       "                                                                                                                                                                                       News  \\\n",
       "0  A 117-year-old woman in Mexico City finally received her birth certificate, and died a few hours later. Trinidad Alvarez Lira had waited years for proof that she had been born in 1898.   \n",
       "1                                                                                                                                          IMF chief backs Athens as permanent Olympic host   \n",
       "2                                                                                                                           The president of France says if Brexit won, so can Donald Trump   \n",
       "3           British Man Who Must Give Police 24 Hours' Notice of Sex Threatens Hunger Strike: The man is the subject of a sexual risk order despite having never been convicted of a crime.   \n",
       "4                                                                                                                                100+ Nobel laureates urge Greenpeace to stop opposing GMOs   \n",
       "\n",
       "  sentiment  confidence  Close Price Ticker  \n",
       "0         0    0.986629       209.92    SPY  \n",
       "1         1    0.619313       209.92    SPY  \n",
       "2         0    0.802927       209.92    SPY  \n",
       "3         0    0.993049       209.92    SPY  \n",
       "4         1    0.594845       209.92    SPY  "
      ]
     },
     "execution_count": 156,
     "metadata": {},
     "output_type": "execute_result"
    }
   ],
   "source": [
    "# Giving numerical values to positive and negative sentiment. \n",
    "\n",
    "Final_Data3.sentiment[Final_Data3.sentiment == 'POSITIVE'] = 1\n",
    "Final_Data3.sentiment[Final_Data3.sentiment == 'NEGATIVE'] = 0\n",
    "\n",
    "Final_Data3.head()"
   ]
  },
  {
   "cell_type": "code",
   "execution_count": 157,
   "metadata": {},
   "outputs": [
    {
     "data": {
      "text/plain": [
       "<AxesSubplot:xlabel='Close Price', ylabel='sentiment'>"
      ]
     },
     "execution_count": 157,
     "metadata": {},
     "output_type": "execute_result"
    },
    {
     "data": {
      "image/png": "[encoded data removed]",
      "text/plain": [
       "<Figure size 576x504 with 1 Axes>"
      ]
     },
     "metadata": {},
     "output_type": "display_data"
    }
   ],
   "source": [
    "#Plotting Sentiment VS Price\n",
    "\n",
    "import seaborn as sns\n",
    "\n",
    "sns.barplot(x='Close Price', y='sentiment' , data=Final_Data3)"
   ]
  }
 ],
 "metadata": {
  "kernelspec": {
   "display_name": "Python 3",
   "language": "python",
   "name": "python3"
  },
  "language_info": {
   "codemirror_mode": {
    "name": "ipython",
    "version": 3
   },
   "file_extension": ".py",
   "mimetype": "text/x-python",
   "name": "python",
   "nbconvert_exporter": "python",
   "pygments_lexer": "ipython3",
   "version": "3.8.5"
  }
 },
 "nbformat": 4,
 "nbformat_minor": 4
}
