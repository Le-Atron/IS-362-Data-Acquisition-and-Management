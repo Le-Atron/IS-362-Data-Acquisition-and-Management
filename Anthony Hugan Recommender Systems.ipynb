{
 "cells": [
  {
   "cell_type": "markdown",
   "metadata": {},
   "source": [
    "Scenario Design – YouTube \n",
    "\n",
    "\n",
    "Overview,\n",
    "\n",
    "YouTube is one the largest online services for creating, and viewing user made content. With this comes one of the largest recommender systems that has ever been created. \n",
    "\n",
    "\n",
    "\n",
    "1, Who are your target users?\n",
    "The target users of YouTubes recommender system is the people that are viewing content on the platform. I also believe that the target users for the recommender system could also be the content creators themselves, as this has a direct impact on their viewership, and thus their monetary outcome. \n",
    "\n",
    "\n",
    "\n",
    "2, What are their goals?\n",
    "The goal of YouTubes recommender system is to serve content to the viewer that it thinks the viewer will like. Otherwise known as the “you tube algorithm” creators are often trying to adhere to the algorithmic rules as it directly affects the amount of views that each video receives.  \n",
    "\n",
    "\n",
    "\n",
    "\n",
    "3, How can you help them accomplish those goals?\n",
    "I think google has a pretty good handle on YouTubes recommender system in the fact that it does a pretty decent job of servicing video content based on what a user has watched in the past. I do however feel that it could handle content better for smaller channels. YouTube’s algorithm seems to favor larger channels with lots of viewers. Whereas there are smaller creators that have great content, but their videos do not seem to be recommended as much. I think google could address this by analyzing cross viewership between large and smaller creators. \n",
    "\n",
    "References\n",
    "Covington, P., Adams, J., & Sargin, E. (n.d.). Deep Neural Networks for YouTube Recommendations. Retrieved from https://static.googleusercontent.com/media/research.google.com/en//pubs/archive/45530.pdf\n"
   ]
  }
 ],
 "metadata": {
  "kernelspec": {
   "display_name": "Python 3",
   "language": "python",
   "name": "python3"
  },
  "language_info": {
   "codemirror_mode": {
    "name": "ipython",
    "version": 3
   },
   "file_extension": ".py",
   "mimetype": "text/x-python",
   "name": "python",
   "nbconvert_exporter": "python",
   "pygments_lexer": "ipython3",
   "version": "3.8.5"
  }
 },
 "nbformat": 4,
 "nbformat_minor": 4
}
