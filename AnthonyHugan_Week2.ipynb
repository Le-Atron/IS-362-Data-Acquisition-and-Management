{
 "cells": [
  {
   "cell_type": "code",
   "execution_count": 1,
   "metadata": {},
   "outputs": [
    {
     "data": {
      "text/plain": [
       "[('Jefferson Street', 86),\n",
       " ('Knickerbocker Avenue', 176),\n",
       " ('Pennsylvaina Avenue', 1600)]"
      ]
     },
     "execution_count": 1,
     "metadata": {},
     "output_type": "execute_result"
    }
   ],
   "source": [
    "# Week 2 - Anthony Hugan\n",
    "\n",
    "# Your week 2 assignment is to create a small Jupyter (IPython) \n",
    "# Notebook about one aspect of data structures that you might find somewhat challenging, \n",
    "# such as set comprehensions, \n",
    "# or using the zip() function.Your Jupyter Notebook should include both code and some documentation, \n",
    "# which should utilize Markdown.  \n",
    "# Your Jupyter Notebook should be hosted in GitHub; please provide a link in your assignment submission.\n",
    "\n",
    "# The zip finction can be used to aggregate and iterator the produces tuples in the (x,y)\n",
    "\n",
    "# in this example im combing stings/street names with the respective integer/street number\n",
    "\n",
    "StreetNames = ['Jefferson Street', 'Knickerbocker Avenue', 'Pennsylvaina Avenue' ]\n",
    "\n",
    "StreetNumbers = [86, 176, 1600]\n",
    "\n",
    "Combined = zip(StreetNames, StreetNumbers)\n",
    "\n",
    "list(Combined)\n",
    "\n",
    "\n"
   ]
  },
  {
   "cell_type": "code",
   "execution_count": null,
   "metadata": {},
   "outputs": [],
   "source": []
  }
 ],
 "metadata": {
  "kernelspec": {
   "display_name": "Python 3",
   "language": "python",
   "name": "python3"
  },
  "language_info": {
   "codemirror_mode": {
    "name": "ipython",
    "version": 3
   },
   "file_extension": ".py",
   "mimetype": "text/x-python",
   "name": "python",
   "nbconvert_exporter": "python",
   "pygments_lexer": "ipython3",
   "version": "3.8.5"
  }
 },
 "nbformat": 4,
 "nbformat_minor": 4
}
