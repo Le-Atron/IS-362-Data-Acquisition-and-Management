{
 "cells": [
  {
   "cell_type": "code",
   "execution_count": 18,
   "metadata": {},
   "outputs": [
    {
     "data": {
      "text/plain": [
       "2021-01-01      55\n",
       "2021-01-02     120\n",
       "2021-01-03     190\n",
       "2021-01-04     245\n",
       "2021-01-05     305\n",
       "2021-01-06     370\n",
       "2021-01-07     440\n",
       "2021-01-08     505\n",
       "2021-01-09     575\n",
       "2021-01-10     640\n",
       "2021-01-11     705\n",
       "2021-01-12     775\n",
       "2021-01-13     830\n",
       "2021-01-14     900\n",
       "2021-01-15     965\n",
       "2021-01-16    1020\n",
       "2021-01-17    1090\n",
       "2021-01-18    1145\n",
       "2021-01-19    1200\n",
       "2021-01-20    1270\n",
       "2021-01-21    1325\n",
       "2021-01-22    1395\n",
       "2021-01-23    1460\n",
       "2021-01-24    1520\n",
       "Freq: D, dtype: int64"
      ]
     },
     "execution_count": 18,
     "metadata": {},
     "output_type": "execute_result"
    }
   ],
   "source": [
    "# Week 3 - Anthony Hugan\n",
    "\n",
    "\n",
    "# Suppose you have ridden a bicycle from New York City to Key West, Florida.  Your bicycle odometer shows the total miles, \n",
    "\n",
    "# which you have dutifully logged at the end of each day with paper and pencil.  \n",
    "\n",
    "# Your first two entries might be 55 and 120, indicating that you rode your bike 55 miles on day 1 and 65 miles on day 2.  \n",
    "\n",
    "# Your task is to create a pandas Series object that holds the cumulative miles at the end of each day, \n",
    "\n",
    "# then use your Python skills to show the total miles that you rode each day.  \n",
    "\n",
    "# Consider how you should best present this information in a Jupyter notebook.  \n",
    "\n",
    "# You should save your Jupyter Notebook to your GitHub repository, and provide a link in your assignment submission.\n",
    "\n",
    "\n",
    "# this imports numpy and pandas and DataFrame / Series\n",
    "\n",
    "import numpy as np\n",
    "\n",
    "import pandas as pd\n",
    "\n",
    "from pandas import DataFrame, Series\n",
    "\n",
    "# sets pandas options\n",
    "\n",
    "pd.set_option ('display.notebook_repr_html', False)\n",
    "\n",
    "pd.set_option ('display.max_columns', None)\n",
    "\n",
    "pd.set_option ('display.max_rows', None)\n",
    "\n",
    "# Adding items for matplotlib\n",
    "\n",
    "%matplotlib inline\n",
    "\n",
    "import matplotlib.pyplot as plt\n",
    "\n",
    "import matplotlib\n",
    "matplotlib.style.use('ggplot')\n",
    "\n",
    "\n",
    "\n",
    "# New York to Key West by Bicycle is 1520 miles\n",
    "\n",
    "\n",
    "# Date range and mile recordings at the end of each day\n",
    "\n",
    "dates = pd.date_range('2021-01-01', '2021-01-24')\n",
    "\n",
    "odometer_reading = pd.Series([55, 120, 190, 245, 305, 370 , 440, 505, 575, 640, 705, 775, \n",
    "                              830, 900, 965, 1020, 1090, 1145, 1200 , 1270, 1325, 1395, 1460, 1520  ], index = dates)\n",
    "\n",
    "\n",
    "odometer_reading\n"
   ]
  },
  {
   "cell_type": "code",
   "execution_count": 19,
   "metadata": {},
   "outputs": [
    {
     "name": "stdout",
     "output_type": "stream",
     "text": [
      "Miles Per Day\n",
      "2021-01-01    55.0\n",
      "2021-01-02    65.0\n",
      "2021-01-03    70.0\n",
      "2021-01-04    55.0\n",
      "2021-01-05    60.0\n",
      "2021-01-06    65.0\n",
      "2021-01-07    70.0\n",
      "2021-01-08    65.0\n",
      "2021-01-09    70.0\n",
      "2021-01-10    65.0\n",
      "2021-01-11    65.0\n",
      "2021-01-12    70.0\n",
      "2021-01-13    55.0\n",
      "2021-01-14    70.0\n",
      "2021-01-15    65.0\n",
      "2021-01-16    55.0\n",
      "2021-01-17    70.0\n",
      "2021-01-18    55.0\n",
      "2021-01-19    55.0\n",
      "2021-01-20    70.0\n",
      "2021-01-21    55.0\n",
      "2021-01-22    70.0\n",
      "2021-01-23    65.0\n",
      "2021-01-24    60.0\n",
      "Freq: D, dtype: float64\n"
     ]
    }
   ],
   "source": [
    "# To calculate the miles per day we can use the diff function, and use fillna to replace nan values. \n",
    "\n",
    "\n",
    "Miles_Per_Day= odometer_reading.diff().fillna(55)\n",
    "\n",
    "\n",
    "print (\"Miles Per Day\")\n",
    "print(Miles_Per_Day)"
   ]
  },
  {
   "cell_type": "code",
   "execution_count": null,
   "metadata": {},
   "outputs": [],
   "source": []
  }
 ],
 "metadata": {
  "kernelspec": {
   "display_name": "Python 3",
   "language": "python",
   "name": "python3"
  },
  "language_info": {
   "codemirror_mode": {
    "name": "ipython",
    "version": 3
   },
   "file_extension": ".py",
   "mimetype": "text/x-python",
   "name": "python",
   "nbconvert_exporter": "python",
   "pygments_lexer": "ipython3",
   "version": "3.8.5"
  }
 },
 "nbformat": 4,
 "nbformat_minor": 4
}
