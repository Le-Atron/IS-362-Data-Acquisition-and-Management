{
 "cells": [
  {
   "cell_type": "code",
   "execution_count": 64,
   "metadata": {},
   "outputs": [],
   "source": [
    "# Week 4 Project 1 Anthony Hugan\n",
    "\n",
    "# Create a .CSV file (or optionally, a MySQL database!) that includes all of the information below.  \n",
    "# You may change the structure of the information as you like.\n",
    "\n",
    "\n",
    "\n",
    "# Read the information from your .CSV file into pandas, and perform analysis to compare the arrival delays for the two airlines.\n",
    "# Your code should be in a Jupyter (IPython) notebook (in GitHub), \n",
    "# and should include narrative descriptions of your analysis and conclusions.\n",
    "\n",
    "\n",
    "# this imports numpy and pandas and DataFrame / Series\n",
    "\n",
    "import numpy as np\n",
    "\n",
    "import pandas as pd\n",
    "\n",
    "from pandas import DataFrame, Series\n",
    "\n",
    "# sets pandas options\n",
    "\n",
    "pd.set_option ('display.notebook_repr_html', False)\n",
    "\n",
    "pd.set_option ('display.max_columns', None)\n",
    "\n",
    "pd.set_option ('display.max_rows', None)\n",
    "\n",
    "# Adding items for matplotlib\n",
    "\n",
    "%matplotlib inline\n",
    "\n",
    "import matplotlib.pyplot as plt\n",
    "\n",
    "import matplotlib\n",
    "matplotlib.style.use('ggplot')\n",
    "\n",
    "\n",
    "\n",
    "\n"
   ]
  },
  {
   "cell_type": "code",
   "execution_count": 65,
   "metadata": {},
   "outputs": [
    {
     "data": {
      "text/plain": [
       "  Airline Flight_Status           City  Number\n",
       "0  Alaska        OnTime    Los Angeles     497\n",
       "1  Alaska        OnTime        Phoenix     221\n",
       "2  Alaska        OnTime      San Diego     212\n",
       "3  Alaska        OnTime  San Francisco     503\n",
       "4  Alaska        OnTime        Seattle    1841"
      ]
     },
     "execution_count": 65,
     "metadata": {},
     "output_type": "execute_result"
    }
   ],
   "source": [
    "# Importing the CSV File to be read by Pandas and checking data\n",
    "\n",
    "\n",
    "flight_data = pd.read_csv('flight_delays.csv')\n",
    "\n",
    "\n",
    "# checking the import worked with the first five rows\n",
    "\n",
    "flight_data.head()"
   ]
  },
  {
   "cell_type": "code",
   "execution_count": 66,
   "metadata": {},
   "outputs": [
    {
     "data": {
      "text/plain": [
       "                       Number\n",
       "Airline Flight_Status        \n",
       "AM West Delayed         157.4\n",
       "        OnTime         1287.6\n",
       "Alaska  Delayed         100.2\n",
       "        OnTime          654.8"
      ]
     },
     "execution_count": 66,
     "metadata": {},
     "output_type": "execute_result"
    }
   ],
   "source": [
    "# This displays the mean average of delayed and on time flights from both airlines\n",
    "\n",
    "\n",
    "flight_data.groupby(['Airline', 'Flight_Status']).mean()\n",
    "\n",
    "# as we can see AM west had more average delays over Alaskan Airlines\n"
   ]
  },
  {
   "cell_type": "code",
   "execution_count": 38,
   "metadata": {},
   "outputs": [
    {
     "data": {
      "text/plain": [
       "                       Number\n",
       "Airline Flight_Status        \n",
       "AM West Delayed           787\n",
       "        OnTime           6438\n",
       "Alaska  Delayed           501\n",
       "        OnTime           3274"
      ]
     },
     "execution_count": 38,
     "metadata": {},
     "output_type": "execute_result"
    }
   ],
   "source": [
    "# This is the sum of flights that are delayed and on time for both airlines\n",
    "\n",
    "\n",
    "flight_data.groupby(['Airline', 'Flight_Status']).sum()\n",
    "\n",
    "\n",
    "# Using the sum we can also see there were more total delays with AM West"
   ]
  },
  {
   "cell_type": "code",
   "execution_count": 60,
   "metadata": {},
   "outputs": [
    {
     "data": {
      "text/plain": [
       "                             Number\n",
       "City          Flight_Status        \n",
       "Los Angeles   Delayed           179\n",
       "              OnTime           1191\n",
       "Phoenix       Delayed           427\n",
       "              OnTime           5061\n",
       "San Diego     Delayed            85\n",
       "              OnTime            595\n",
       "San Francisco Delayed           231\n",
       "              OnTime            823\n",
       "Seattle       Delayed           366\n",
       "              OnTime           2042"
      ]
     },
     "execution_count": 60,
     "metadata": {},
     "output_type": "execute_result"
    }
   ],
   "source": [
    "flight_data.groupby(['City', 'Flight_Status']).sum()\n",
    "\n",
    "# We can also analyze the total delays based on city and see that Pheonix had the most delays, and SanDiego had the least"
   ]
  },
  {
   "cell_type": "code",
   "execution_count": null,
   "metadata": {},
   "outputs": [],
   "source": []
  }
 ],
 "metadata": {
  "kernelspec": {
   "display_name": "Python 3",
   "language": "python",
   "name": "python3"
  },
  "language_info": {
   "codemirror_mode": {
    "name": "ipython",
    "version": 3
   },
   "file_extension": ".py",
   "mimetype": "text/x-python",
   "name": "python",
   "nbconvert_exporter": "python",
   "pygments_lexer": "ipython3",
   "version": "3.8.5"
  }
 },
 "nbformat": 4,
 "nbformat_minor": 4
}
